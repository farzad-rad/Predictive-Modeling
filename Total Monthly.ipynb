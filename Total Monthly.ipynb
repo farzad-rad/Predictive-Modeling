{
 "cells": [
  {
   "cell_type": "markdown",
   "metadata": {},
   "source": [
    "## Total Assessments"
   ]
  },
  {
   "cell_type": "markdown",
   "metadata": {},
   "source": [
    "### Linear Regression"
   ]
  },
  {
   "cell_type": "code",
   "execution_count": 1,
   "metadata": {},
   "outputs": [],
   "source": [
    "import warnings\n",
    "warnings.filterwarnings('ignore')\n",
    "import numpy as np\n",
    "import pandas as pd\n",
    "from scipy import stats\n",
    "import statsmodels.api as sm\n",
    "import matplotlib.pyplot as plt\n",
    "\n",
    "%matplotlib inline\n",
    "\n",
    "# Import Prophet\n",
    "from fbprophet import Prophet\n",
    "import logging\n",
    "\n",
    "logging.getLogger().setLevel(logging.ERROR)"
   ]
  },
  {
   "cell_type": "code",
   "execution_count": 2,
   "metadata": {},
   "outputs": [
    {
     "data": {
      "text/html": [
       "<div>\n",
       "<style scoped>\n",
       "    .dataframe tbody tr th:only-of-type {\n",
       "        vertical-align: middle;\n",
       "    }\n",
       "\n",
       "    .dataframe tbody tr th {\n",
       "        vertical-align: top;\n",
       "    }\n",
       "\n",
       "    .dataframe thead th {\n",
       "        text-align: right;\n",
       "    }\n",
       "</style>\n",
       "<table border=\"1\" class=\"dataframe\">\n",
       "  <thead>\n",
       "    <tr style=\"text-align: right;\">\n",
       "      <th></th>\n",
       "      <th>Date</th>\n",
       "      <th>Total_Assessment</th>\n",
       "    </tr>\n",
       "  </thead>\n",
       "  <tbody>\n",
       "    <tr>\n",
       "      <th>0</th>\n",
       "      <td>1</td>\n",
       "      <td>2</td>\n",
       "    </tr>\n",
       "    <tr>\n",
       "      <th>1</th>\n",
       "      <td>2</td>\n",
       "      <td>1</td>\n",
       "    </tr>\n",
       "    <tr>\n",
       "      <th>2</th>\n",
       "      <td>3</td>\n",
       "      <td>2</td>\n",
       "    </tr>\n",
       "    <tr>\n",
       "      <th>3</th>\n",
       "      <td>4</td>\n",
       "      <td>4</td>\n",
       "    </tr>\n",
       "    <tr>\n",
       "      <th>4</th>\n",
       "      <td>5</td>\n",
       "      <td>1</td>\n",
       "    </tr>\n",
       "  </tbody>\n",
       "</table>\n",
       "</div>"
      ],
      "text/plain": [
       "   Date  Total_Assessment\n",
       "0     1                 2\n",
       "1     2                 1\n",
       "2     3                 2\n",
       "3     4                 4\n",
       "4     5                 1"
      ]
     },
     "execution_count": 2,
     "metadata": {},
     "output_type": "execute_result"
    }
   ],
   "source": [
    "df = pd.read_csv('C:\\\\Users\\\\RadmehrFarzad\\\\OneDrive - Steampunk\\\\Desktop\\\\Prediction Project\\\\Assessment Data 2.csv')"
   ]
  },
  {
   "cell_type": "code",
   "execution_count": 3,
   "metadata": {},
   "outputs": [
    {
     "name": "stdout",
     "output_type": "stream",
     "text": [
      "-------------------------------------------\n",
      "Root Mean Squared Error-Test: 1.9643992648584025\n",
      "Mean Squared Error-Test: 3.8588644717762324\n"
     ]
    }
   ],
   "source": [
    "# Linear Regression\n",
    "X = df.Date.values\n",
    "y = (df['Total_Assessment']).values\n",
    "X = X.reshape(-1,1)\n",
    "from sklearn.model_selection import train_test_split\n",
    "from sklearn import linear_model\n",
    "from sklearn import metrics\n",
    "X_train, X_test, y_train, y_test = train_test_split(X, y, test_size = 0.3, random_state=42)\n",
    "reg_all = linear_model.LinearRegression()\n",
    "reg_all.fit(X_train, y_train)\n",
    "print('-------------------------------------------')\n",
    "from sklearn import metrics \n",
    "print('Root Mean Squared Error-Test:', np.sqrt(metrics.mean_squared_error(y_test, reg_all.predict(X_test))))\n",
    "\n",
    "mse = metrics.mean_squared_error(y_test, reg_all.predict(X_test))\n",
    "print('Mean Squared Error-Test:',mse)\n"
   ]
  },
  {
   "cell_type": "code",
   "execution_count": 5,
   "metadata": {},
   "outputs": [
    {
     "name": "stdout",
     "output_type": "stream",
     "text": [
      "X=47, Predicted=1.0851063829787244\n",
      "X=48, Predicted=1.2339808818994766\n",
      "X=49, Predicted=1.382855380820229\n",
      "X=50, Predicted=1.5317298797409813\n",
      "X=51, Predicted=1.6806043786617337\n"
     ]
    }
   ],
   "source": [
    "# fit final model\n",
    "from sklearn import linear_model\n",
    "X = df.Date.values\n",
    "y = (df.Total_Assessment).values\n",
    "X = X.reshape(-1,1)\n",
    "model = linear_model.LinearRegression()\n",
    "\n",
    "model.fit(X, y)\n",
    "Xnew = [47,48,49,50,51]\n",
    "ynew = model.predict(X)\n",
    "for i in range(len(Xnew)):\n",
    "    print(\"X=%s, Predicted=%s\" % (Xnew[i], ynew[i]))"
   ]
  },
  {
   "cell_type": "markdown",
   "metadata": {},
   "source": [
    "### ARIMA"
   ]
  },
  {
   "cell_type": "code",
   "execution_count": 4,
   "metadata": {},
   "outputs": [
    {
     "name": "stdout",
     "output_type": "stream",
     "text": [
      "predicted=5.531751, expected=11.000000\n",
      "predicted=7.968835, expected=5.000000\n",
      "predicted=7.071922, expected=5.000000\n",
      "predicted=6.064002, expected=5.000000\n",
      "predicted=5.724131, expected=6.000000\n",
      "predicted=5.837680, expected=7.000000\n",
      "predicted=6.192300, expected=7.000000\n",
      "predicted=6.419885, expected=7.000000\n",
      "predicted=6.584250, expected=9.000000\n",
      "predicted=7.394523, expected=7.000000\n",
      "predicted=7.190952, expected=9.000000\n",
      "predicted=7.822318, expected=4.000000\n",
      "predicted=6.698219, expected=7.000000\n",
      "predicted=6.739981, expected=10.000000\n",
      "Test MSE: 2.408\n"
     ]
    }
   ],
   "source": [
    "# ARIMA\n",
    "from statsmodels.tsa.arima.model import ARIMA\n",
    "from sklearn import metrics \n",
    "# split into train and test sets\n",
    "X = df.Total_Assessment.values\n",
    "size = int(len(X) * 0.7)\n",
    "train, test = X[0:size], X[size:len(X)]\n",
    "history = [x for x in train]\n",
    "predictions = list()\n",
    "# walk-forward validation\n",
    "for t in range(len(test)):\n",
    "    model = ARIMA(history, order=(1,1,1))\n",
    "    model_fit = model.fit()\n",
    "    output = model_fit.forecast()\n",
    "    yhat = output[0]\n",
    "    predictions.append(yhat)\n",
    "    obs = test[t]\n",
    "    history.append(obs)\n",
    "    print('predicted=%f, expected=%f' % (yhat, obs))\n",
    "# evaluate forecasts\n",
    "rmse = np.sqrt(metrics.mean_squared_error(test, predictions))\n",
    "print('Test MSE: %.3f' % rmse)"
   ]
  }
 ],
 "metadata": {
  "kernelspec": {
   "display_name": "Python 3",
   "language": "python",
   "name": "python3"
  },
  "language_info": {
   "codemirror_mode": {
    "name": "ipython",
    "version": 3
   },
   "file_extension": ".py",
   "mimetype": "text/x-python",
   "name": "python",
   "nbconvert_exporter": "python",
   "pygments_lexer": "ipython3",
   "version": "3.8.5"
  }
 },
 "nbformat": 4,
 "nbformat_minor": 4
}
