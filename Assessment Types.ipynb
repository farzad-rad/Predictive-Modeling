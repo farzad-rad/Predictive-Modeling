{
 "cells": [
  {
   "cell_type": "markdown",
   "metadata": {},
   "source": [
    "## Assessment Types"
   ]
  },
  {
   "cell_type": "markdown",
   "metadata": {},
   "source": [
    "### Linear Regression"
   ]
  },
  {
   "cell_type": "code",
   "execution_count": 1,
   "metadata": {},
   "outputs": [],
   "source": [
    "import warnings\n",
    "warnings.filterwarnings('ignore')\n",
    "import numpy as np\n",
    "import pandas as pd\n",
    "from scipy import stats\n",
    "import statsmodels.api as sm\n",
    "import matplotlib.pyplot as plt\n",
    "\n",
    "%matplotlib inline\n",
    "\n",
    "# Import Prophet\n",
    "from fbprophet import Prophet\n",
    "import logging\n",
    "\n",
    "logging.getLogger().setLevel(logging.ERROR)\n",
    "\n",
    "import matplotlib.pyplot as plt\n",
    "import matplotlib.animation as animation\n",
    "from matplotlib import style"
   ]
  },
  {
   "cell_type": "code",
   "execution_count": 3,
   "metadata": {},
   "outputs": [],
   "source": [
    "df = pd.read_csv('C:\\\\Users\\RadmehrFarzad\\\\OneDrive - Steampunk\\\\Desktop\\\\Prediction Project\\\\Assessment Type\\\\Assessment Type Data.csv')"
   ]
  },
  {
   "cell_type": "code",
   "execution_count": 4,
   "metadata": {},
   "outputs": [
    {
     "name": "stdout",
     "output_type": "stream",
     "text": [
      "-------------------------------------------\n",
      "Root Mean Squared Error-Test: 1.6967337588187845\n",
      "Mean Squared Error-Test: 2.8789054483153214\n"
     ]
    }
   ],
   "source": [
    "# Linear Regression\n",
    "X = (df['Time_Code']).values\n",
    "y = (df['OA']).values\n",
    "X = X.reshape(-1,1)\n",
    "from sklearn.model_selection import train_test_split\n",
    "from sklearn import linear_model\n",
    "from sklearn import metrics\n",
    "X_train, X_test, y_train, y_test = train_test_split(X, y, test_size = 0.3, random_state=42)\n",
    "reg_all = linear_model.LinearRegression()\n",
    "reg_all.fit(X_train, y_train)\n",
    "print('-------------------------------------------')\n",
    "from sklearn import metrics \n",
    "print('Root Mean Squared Error-Test:', np.sqrt(metrics.mean_squared_error(y_test, reg_all.predict(X_test))))\n",
    "\n",
    "mse = metrics.mean_squared_error(y_test, reg_all.predict(X_test))\n",
    "print('Mean Squared Error-Test:',mse)\n"
   ]
  },
  {
   "cell_type": "code",
   "execution_count": 5,
   "metadata": {},
   "outputs": [
    {
     "name": "stdout",
     "output_type": "stream",
     "text": [
      "X=47, Predicted=0.4107308048103609\n",
      "X=48, Predicted=0.4678384212149245\n",
      "X=49, Predicted=0.5249460376194882\n",
      "X=50, Predicted=0.5820536540240518\n",
      "X=51, Predicted=0.6391612704286156\n"
     ]
    }
   ],
   "source": [
    "# fit final model\n",
    "from sklearn import linear_model\n",
    "X = df.Time_Code.values\n",
    "y = (df.OA).values\n",
    "X = X.reshape(-1,1)\n",
    "model = linear_model.LinearRegression()\n",
    "\n",
    "model.fit(X, y)\n",
    "Xnew = [47,48,49,50,51]\n",
    "ynew = model.predict(X)\n",
    "for i in range(len(Xnew)):\n",
    "    print(\"X=%s, Predicted=%s\" % (Xnew[i], ynew[i]))"
   ]
  },
  {
   "cell_type": "markdown",
   "metadata": {},
   "source": [
    "### ARIMA"
   ]
  },
  {
   "cell_type": "code",
   "execution_count": 7,
   "metadata": {},
   "outputs": [
    {
     "name": "stdout",
     "output_type": "stream",
     "text": [
      "predicted=1.351397, expected=3.000000\n",
      "predicted=2.043022, expected=1.000000\n",
      "predicted=1.689599, expected=1.000000\n",
      "predicted=1.295038, expected=1.000000\n",
      "predicted=1.222651, expected=1.000000\n",
      "predicted=1.196016, expected=5.000000\n",
      "predicted=1.935933, expected=4.000000\n",
      "predicted=2.248944, expected=4.000000\n",
      "predicted=2.915347, expected=7.000000\n",
      "predicted=5.441314, expected=1.000000\n",
      "predicted=2.821879, expected=3.000000\n",
      "predicted=3.266236, expected=0.000000\n",
      "predicted=2.480658, expected=0.000000\n",
      "predicted=-0.586860, expected=8.000000\n",
      "Test MSE: 3.308\n"
     ]
    }
   ],
   "source": [
    "# ARIMA\n",
    "from statsmodels.tsa.arima.model import ARIMA\n",
    "from sklearn import metrics \n",
    "# split into train and test sets\n",
    "X = df.OA.values\n",
    "size = int(len(X) * 0.7)\n",
    "train, test = X[0:size], X[size:len(X)]\n",
    "history = [x for x in train]\n",
    "predictions = list()\n",
    "# walk-forward validation\n",
    "for t in range(len(test)):\n",
    "    model = ARIMA(history, order=(1,1,2))\n",
    "    model_fit = model.fit()\n",
    "    output = model_fit.forecast()\n",
    "    yhat = output[0]\n",
    "    predictions.append(yhat)\n",
    "    obs = test[t]\n",
    "    history.append(obs)\n",
    "    print('predicted=%f, expected=%f' % (yhat, obs))\n",
    "# evaluate forecasts\n",
    "rmse = np.sqrt(metrics.mean_squared_error(test, predictions))\n",
    "print('Test MSE: %.3f' % rmse)\n"
   ]
  }
 ],
 "metadata": {
  "kernelspec": {
   "display_name": "Python 3",
   "language": "python",
   "name": "python3"
  },
  "language_info": {
   "codemirror_mode": {
    "name": "ipython",
    "version": 3
   },
   "file_extension": ".py",
   "mimetype": "text/x-python",
   "name": "python",
   "nbconvert_exporter": "python",
   "pygments_lexer": "ipython3",
   "version": "3.8.5"
  }
 },
 "nbformat": 4,
 "nbformat_minor": 4
}
